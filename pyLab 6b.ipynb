{
 "cells": [
  {
   "cell_type": "code",
   "execution_count": null,
   "metadata": {},
   "outputs": [],
   "source": [
    "import os\n",
    "import sys\n",
    "import pathlib\n",
    "import zipfile\n",
    "dirName = input(\"Enter Directory name that you want to backup : \")\n",
    "if not os.path.isdir(dirName):\n",
    " print(\"Directory\", dirName, \"doesn't exists\")\n",
    " sys.exit(0)\n",
    " \n",
    "curDirectory = pathlib.Path(dirName)\n",
    " \n",
    "with zipfile.ZipFile(\"myZip.zip\", mode=\"w\") as archive:\n",
    " for file_path in curDirectory.rglob(\"*\"):\n",
    " archive.write(file_path, arcname=file_path.relative_to(curDirectory))\n",
    " \n",
    "if os.path.isfile(\"myZip.zip\"):\n",
    " print(\"Archive\", \"myZip.zip\", \"created successfully\")\n",
    "else:\n",
    " print(\"Error in creating zip archive\")\n"
   ]
  }
 ],
 "metadata": {
  "language_info": {
   "name": "python"
  },
  "orig_nbformat": 4
 },
 "nbformat": 4,
 "nbformat_minor": 2
}

{
  "metadata": {
    "language_info": {
      "name": ""
    },
    "kernelspec": {
      "name": "python",
      "display_name": "Python (Pyodide)",
      "language": "python"
    }
  },
  "nbformat_minor": 4,
  "nbformat": 4,
  "cells": [
    {
      "cell_type": "code",
      "source": "import os.path\nimport sys\nfname = input(\"Enter the filename : \") \nif not os.path.isfile(fname):\n print(\"File\", fname, \"doesn't exists\")\n sys.exit(0)\ninfile = open(fname, \"r\")\nlineList = infile.readlines()\nfor i in range(20):\n print(i+1, \":\", lineList[i])\n \nword = input(\"Enter a word : \")\ncnt = 0\nfor line in lineList:\n cnt += line.count(word)\nprint(\"The word\", word, \"appears\", cnt, \"times in the file\")",
      "metadata": {},
      "execution_count": null,
      "outputs": []
    }
  ]
}
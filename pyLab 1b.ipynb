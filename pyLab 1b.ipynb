{
 "cells": [
  {
   "cell_type": "code",
   "execution_count": 8,
   "id": "f2fd68f9",
   "metadata": {},
   "outputs": [
    {
     "name": "stdout",
     "output_type": "stream",
     "text": [
      "Enter a value : 121\n",
      "Palindrome\n",
      "1 appears 2 times\n",
      "2 appears 1 times\n"
     ]
    }
   ],
   "source": [
    "val = int(input(\"Enter a value : \"))\n",
    "str_val = str(val)\n",
    "if str_val == str_val[::-1]:\n",
    " print(\"Palindrome\")\n",
    "else:\n",
    " print(\"Not Palindrome\")\n",
    " \n",
    "for i in range(10):\n",
    " if str_val.count(str(i)) > 0:\n",
    "     print(str(i),\"appears\", str_val.count(str(i)), \"times\");"
   ]
  },
  {
   "cell_type": "code",
   "execution_count": null,
   "id": "b56464ef",
   "metadata": {},
   "outputs": [],
   "source": []
  }
 ],
 "metadata": {
  "kernelspec": {
   "display_name": "Python 3 (ipykernel)",
   "language": "python",
   "name": "python3"
  },
  "language_info": {
   "codemirror_mode": {
    "name": "ipython",
    "version": 3
   },
   "file_extension": ".py",
   "mimetype": "text/x-python",
   "name": "python",
   "nbconvert_exporter": "python",
   "pygments_lexer": "ipython3",
   "version": "3.10.9"
  }
 },
 "nbformat": 4,
 "nbformat_minor": 5
}

{
 "cells": [
  {
   "cell_type": "code",
   "execution_count": 12,
   "id": "236b27a0",
   "metadata": {},
   "outputs": [
    {
     "name": "stdout",
     "output_type": "stream",
     "text": [
      "Enter a sentence : hello everyone 123\n",
      "This sentence has 3 words\n",
      "This sentence has 3 digits 0 upper case letters 13 lower case letters\n"
     ]
    }
   ],
   "source": [
    "sentence = input(\"Enter a sentence : \")\n",
    "wordList = sentence.split(\" \")\n",
    "print(\"This sentence has\", len(wordList), \"words\")\n",
    "digCnt = upCnt = loCnt = 0\n",
    "for ch in sentence:\n",
    "    if '0' <= ch <= '9':\n",
    "        digCnt += 1\n",
    "    elif 'A' <= ch <= 'Z':\n",
    "        upCnt += 1\n",
    "    elif 'a' <= ch <= 'z':\n",
    "        loCnt += 1\n",
    "print(\"This sentence has\", digCnt, \"digits\", upCnt, \"upper case letters\", loCnt, \n",
    "\"lower case letters\")"
   ]
  },
  {
   "cell_type": "code",
   "execution_count": null,
   "id": "5ef978b8",
   "metadata": {},
   "outputs": [],
   "source": []
  }
 ],
 "metadata": {
  "kernelspec": {
   "display_name": "Python 3 (ipykernel)",
   "language": "python",
   "name": "python3"
  },
  "language_info": {
   "codemirror_mode": {
    "name": "ipython",
    "version": 3
   },
   "file_extension": ".py",
   "mimetype": "text/x-python",
   "name": "python",
   "nbconvert_exporter": "python",
   "pygments_lexer": "ipython3",
   "version": "3.10.9"
  }
 },
 "nbformat": 4,
 "nbformat_minor": 5
}

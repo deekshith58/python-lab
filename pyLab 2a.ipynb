{
 "cells": [
  {
   "cell_type": "code",
   "execution_count": null,
   "id": "5bb51f98",
   "metadata": {},
   "outputs": [],
   "source": [
    "def fn(n):\n",
    "    if n == 1:\n",
    "        return 0\n",
    "    elif n == 2:\n",
    "        return 1\n",
    "    else:\n",
    "        return fn(n-1) + fn(n-2)\n",
    " \n",
    "num = int(input(\"Enter a number : \"))\n",
    "\n",
    "if num > 0:\n",
    "    print(\"fn(\", num, \") = \",fn(num) , sep =\"\")\n",
    "else:\n",
    "    print(\"Error in input\")"
   ]
  }
 ],
 "metadata": {
  "kernelspec": {
   "display_name": "Python 3 (ipykernel)",
   "language": "python",
   "name": "python3"
  },
  "language_info": {
   "codemirror_mode": {
    "name": "ipython",
    "version": 3
   },
   "file_extension": ".py",
   "mimetype": "text/x-python",
   "name": "python",
   "nbconvert_exporter": "python",
   "pygments_lexer": "ipython3",
   "version": "3.10.9"
  }
 },
 "nbformat": 4,
 "nbformat_minor": 5
}

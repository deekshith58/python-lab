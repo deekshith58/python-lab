{
 "cells": [
  {
   "cell_type": "code",
   "execution_count": 17,
   "id": "09a55613",
   "metadata": {},
   "outputs": [
    {
     "name": "stdout",
     "output_type": "stream",
     "text": [
      "+917619182890\n",
      "+658425872454\n",
      "+816546121534\n",
      "samplemail@gmail.com\n"
     ]
    }
   ],
   "source": [
    "import re\n",
    "phone_regex = re.compile(r'\\+\\d{12}')\n",
    "email_regex = re.compile(r'[A-Za-z0-9._]+@[A-Za-z0-9]+\\.[A-Z|a-z]{2,}')\n",
    "with open('numbers.txt', 'r') as f:\n",
    " for line in f:\n",
    "     matches = phone_regex.findall(line)\n",
    "     for match in matches:\n",
    "         print(match)\n",
    "     matches = email_regex.findall(line)\n",
    "     for match in matches:\n",
    "         print(match) "
   ]
  },
  {
   "cell_type": "code",
   "execution_count": null,
   "id": "deae43e4",
   "metadata": {},
   "outputs": [],
   "source": []
  }
 ],
 "metadata": {
  "kernelspec": {
   "display_name": "Python 3 (ipykernel)",
   "language": "python",
   "name": "python3"
  },
  "language_info": {
   "codemirror_mode": {
    "name": "ipython",
    "version": 3
   },
   "file_extension": ".py",
   "mimetype": "text/x-python",
   "name": "python",
   "nbconvert_exporter": "python",
   "pygments_lexer": "ipython3",
   "version": "3.10.9"
  }
 },
 "nbformat": 4,
 "nbformat_minor": 5
}

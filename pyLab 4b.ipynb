{
 "cells": [
  {
   "cell_type": "code",
   "execution_count": null,
   "id": "4a2fd92a",
   "metadata": {},
   "outputs": [],
   "source": [
    "def roman2Dec(romStr):\n",
    "    roman_dict ={'I': 1, 'V': 5, 'X': 10, 'L': 50, 'C': 100, 'D': 500, 'M': 1000}\n",
    "    romanBack = list(romStr)[::-1]\n",
    "    value = 0\n",
    "    rightVal = roman_dict[romanBack[0]] \n",
    "    for numeral in romanBack:\n",
    "        leftVal = roman_dict[numeral]\n",
    "        if leftVal < rightVal:\n",
    "            value -= leftVal\n",
    "        else:\n",
    "            value += leftVal\n",
    "        rightVal = leftVal\n",
    "    return value\n",
    "\n",
    "romanStr = input(\"Enter a Roman Number : \")\n",
    "print(roman2Dec(romanStr))\n"
   ]
  }
 ],
 "metadata": {
  "kernelspec": {
   "display_name": "Python 3 (ipykernel)",
   "language": "python",
   "name": "python3"
  },
  "language_info": {
   "codemirror_mode": {
    "name": "ipython",
    "version": 3
   },
   "file_extension": ".py",
   "mimetype": "text/x-python",
   "name": "python",
   "nbconvert_exporter": "python",
   "pygments_lexer": "ipython3",
   "version": "3.10.9"
  }
 },
 "nbformat": 4,
 "nbformat_minor": 5
}

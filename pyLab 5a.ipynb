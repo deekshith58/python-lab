{
 "cells": [
  {
   "cell_type": "code",
   "execution_count": 16,
   "id": "c43075a0",
   "metadata": {},
   "outputs": [
    {
     "name": "stdout",
     "output_type": "stream",
     "text": [
      "Enter a phone number : 444-654-5656\n",
      "Without using Regular Expression\n",
      "Valid phone number\n",
      "Using Regular Expression\n",
      "Valid phone number\n"
     ]
    }
   ],
   "source": [
    "import re\n",
    "\n",
    "def isphonenumber(numStr):\n",
    "    if len(numStr) != 12:\n",
    "        return False\n",
    "    for i in range(len(numStr)):\n",
    "        if i==3 or i==7:\n",
    "            if numStr[i] != \"-\":\n",
    "                return False\n",
    "    else:\n",
    "        if numStr[i].isdigit() == False:\n",
    "            return False\n",
    "    return True\n",
    "\n",
    "def chkphonenumber(numStr):\n",
    "    ph_no_pattern = re.compile(r'^\\d{3}-\\d{3}-\\d{4}$')\n",
    "    if ph_no_pattern.match(numStr):\n",
    "        return True\n",
    "    else:\n",
    "        return False\n",
    "    \n",
    "ph_num = input(\"Enter a phone number : \")\n",
    "print(\"Without using Regular Expression\")\n",
    "if isphonenumber(ph_num):\n",
    "    print(\"Valid phone number\")\n",
    "else:\n",
    "    print(\"Invalid phone number\")\n",
    "    \n",
    "print(\"Using Regular Expression\")\n",
    "if chkphonenumber(ph_num):\n",
    "    print(\"Valid phone number\")\n",
    "else:\n",
    "    print(\"Invalid phone number\")"
   ]
  },
  {
   "cell_type": "code",
   "execution_count": null,
   "id": "88a8b9a6",
   "metadata": {},
   "outputs": [],
   "source": []
  }
 ],
 "metadata": {
  "kernelspec": {
   "display_name": "Python 3 (ipykernel)",
   "language": "python",
   "name": "python3"
  },
  "language_info": {
   "codemirror_mode": {
    "name": "ipython",
    "version": 3
   },
   "file_extension": ".py",
   "mimetype": "text/x-python",
   "name": "python",
   "nbconvert_exporter": "python",
   "pygments_lexer": "ipython3",
   "version": "3.10.9"
  }
 },
 "nbformat": 4,
 "nbformat_minor": 5
}

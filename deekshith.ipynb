{
 "cells": [
  {
   "cell_type": "code",
   "execution_count": null,
   "id": "dd0cf805",
   "metadata": {},
   "outputs": [],
   "source": [
    "m1 = int(input(\"Enter marks for test1 : \"))\n",
    "m2 = int(input(\"Enter marks for test2 : \"))\n",
    "m3 = int(input(\"Enter marks for test3 : \"))\n",
    "if m1 <= m2 and m1 <= m3:\n",
    " avgMarks = (m2+m3)/2\n",
    "elif m2 <= m1 and m2 <= m3:\n",
    " avgMarks = (m1+m3)/2\n",
    "elif m3 <= m1 and m2 <= m2:\n",
    " avgMarks = (m1+m2)/2 \n",
    " \n",
    "print(\"Average of best two test marks out of three test’s marks is\", avgMarks);\n",
    "\n"
   ]
  },
  {
   "cell_type": "code",
   "execution_count": null,
   "id": "3e95e4db",
   "metadata": {},
   "outputs": [],
   "source": [
    "val = int(input(\"Enter a value : \"))\n",
    "str_val = str(val)\n",
    "if str_val == str_val[::-1]:\n",
    " print(\"Palindrome\")\n",
    "else:\n",
    " print(\"Not Palindrome\")\n",
    " \n",
    "for i in range(10):\n",
    " if str_val.count(str(i)) > 0:\n",
    " print(str(i),\"appears\", str_val.count(str(i)), \"times\");"
   ]
  },
  {
   "cell_type": "code",
   "execution_count": null,
   "id": "63d8b185",
   "metadata": {},
   "outputs": [],
   "source": [
    "def fn(n):\n",
    " if n == 1:\n",
    " return 0\n",
    " elif n == 2:\n",
    " return 1\n",
    " else:\n",
    " return fn(n-1) + fn(n-2)\n",
    " \n",
    "num = int(input(\"Enter a number : \"))\n",
    "if num > 0:\n",
    " print(\"fn(\", num, \") = \",fn(num) , sep =\"\")\n",
    "else:\n",
    " print(\"Error in input\""
   ]
  },
  {
   "cell_type": "code",
   "execution_count": null,
   "id": "5d7e578e",
   "metadata": {},
   "outputs": [],
   "source": [
    "def bin2Dec(val):\n",
    " rev=val[::-1]\n",
    " dec = 0\n",
    " i = 0\n",
    " for dig in rev:\n",
    " dec += int(dig) * 2**i\n",
    " i += 1\n",
    " \n",
    " return dec\n",
    "def oct2Hex(val):\n",
    " rev=val[::-1]\n",
    " dec = 0\n",
    " i = 0\n",
    " for dig in rev:\n",
    " dec += int(dig) * 8**i\n",
    " i += 1\n",
    " list=[]\n",
    " while dec != 0:\n",
    " list.append(dec%16)\n",
    " dec = dec // 16\n",
    "8\n",
    " \n",
    " nl=[]\n",
    " for elem in list[::-1]:\n",
    " if elem <= 9:\n",
    " nl.append(str(elem))\n",
    " else:\n",
    " nl.append(chr(ord('A') + (elem -10)))\n",
    " hex = \"\".join(nl)\n",
    " \n",
    " return hex\n",
    "num1 = input(\"Enter a binary number : \") \n",
    "print(bin2Dec(num1))\n",
    "num2 = input(\"Enter a octal number : \")\n",
    "print(oct2Hex(num2))"
   ]
  }
 ],
 "metadata": {
  "kernelspec": {
   "display_name": "Python 3 (ipykernel)",
   "language": "python",
   "name": "python3"
  },
  "language_info": {
   "codemirror_mode": {
    "name": "ipython",
    "version": 3
   },
   "file_extension": ".py",
   "mimetype": "text/x-python",
   "name": "python",
   "nbconvert_exporter": "python",
   "pygments_lexer": "ipython3",
   "version": "3.10.9"
  }
 },
 "nbformat": 4,
 "nbformat_minor": 5
}
